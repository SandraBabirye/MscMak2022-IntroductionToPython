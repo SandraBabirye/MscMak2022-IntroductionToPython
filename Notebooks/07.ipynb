{
 "cells": [
  {
   "cell_type": "markdown",
   "metadata": {},
   "source": [
    "<small><small><i>\n",
    "Introduction to Python for Bioinformatics - available at https://github.com/GunzIvan28/MScMak2022-IntroductionToPython.\n",
    "</i></small></small>\n",
    "\n",
    "## Files, Scripting and Modules\n",
    "\n",
    "So far, we have been writing all our Python Code in Jupyter notebooks. However, if you want to use the code we have written as part of a pipeline, you need to write scripts. Also, most of the time the data you need to analyse is in a file, which you need to read to Python and process. \n",
    "\n",
    "\n",
    "### Reading Files\n",
    "\n",
    "So far we have been working from memory. In Bioinformatics, you will need to read some file or even write some output to file. We use the `open` function. "
   ]
  },
  {
   "cell_type": "code",
   "execution_count": 1,
   "metadata": {},
   "outputs": [
    {
     "data": {
      "text/plain": [
       "14"
      ]
     },
     "execution_count": 1,
     "metadata": {},
     "output_type": "execute_result"
    }
   ],
   "source": [
    "myfile = open(\"../Data/test.txt\", \"w\")        #Opens a file that is new or exists; r=reading, r=writing, \n",
    "myfile.write(\"My first file written from Python \\n\")\n",
    "myfile.write(\"---------------------------------\\n\")\n",
    "myfile.write(\"Hello, world!\\n\")\n",
    "#myfile.close() #Closes the file[always a must!, donr forget]"
   ]
  },
  {
   "cell_type": "code",
   "execution_count": 2,
   "metadata": {},
   "outputs": [
    {
     "data": {
      "text/plain": [
       "_io.TextIOWrapper"
      ]
     },
     "execution_count": 2,
     "metadata": {},
     "output_type": "execute_result"
    }
   ],
   "source": [
    "type(myfile)    #Text wrapper that enables navigation through the file, enables editing and manipulation through the file"
   ]
  },
  {
   "cell_type": "code",
   "execution_count": 3,
   "metadata": {},
   "outputs": [
    {
     "data": {
      "text/plain": [
       "2"
      ]
     },
     "execution_count": 3,
     "metadata": {},
     "output_type": "execute_result"
    }
   ],
   "source": [
    "myfile.seek(2)"
   ]
  },
  {
   "cell_type": "code",
   "execution_count": 4,
   "metadata": {},
   "outputs": [],
   "source": [
    "read_file = open(\"../Data/test.txt\", 'r')"
   ]
  },
  {
   "cell_type": "code",
   "execution_count": 5,
   "metadata": {},
   "outputs": [
    {
     "data": {
      "text/plain": [
       "'My first file written from Python \\n'"
      ]
     },
     "execution_count": 5,
     "metadata": {},
     "output_type": "execute_result"
    }
   ],
   "source": [
    "read_file.readline() #Reads line per line"
   ]
  },
  {
   "cell_type": "code",
   "execution_count": 6,
   "metadata": {},
   "outputs": [
    {
     "data": {
      "text/plain": [
       "['---------------------------------\\n', 'Hello, world!\\n']"
      ]
     },
     "execution_count": 6,
     "metadata": {},
     "output_type": "execute_result"
    }
   ],
   "source": [
    "read_file.readlines() #This reads all the content from start and displays last line"
   ]
  },
  {
   "cell_type": "code",
   "execution_count": 7,
   "metadata": {},
   "outputs": [
    {
     "data": {
      "text/plain": [
       "0"
      ]
     },
     "execution_count": 7,
     "metadata": {},
     "output_type": "execute_result"
    }
   ],
   "source": [
    "read_file.seek(0) #Brings cursor back to the start"
   ]
  },
  {
   "cell_type": "code",
   "execution_count": 8,
   "metadata": {},
   "outputs": [
    {
     "data": {
      "text/plain": [
       "['My first file written from Python \\n',\n",
       " '---------------------------------\\n',\n",
       " 'Hello, world!\\n']"
      ]
     },
     "execution_count": 8,
     "metadata": {},
     "output_type": "execute_result"
    }
   ],
   "source": [
    "read_file.readlines()"
   ]
  },
  {
   "cell_type": "markdown",
   "metadata": {},
   "source": [
    "The **mode** in which you open the file determines whether to write (w), read (r) or append(a) to file. \n",
    "\n",
    "Opening a file creates what we call a **file handle** which contains methods for manipulating the file. In our case, `myfile` has the methods to write and close the file. Closing the file makes it accessible in the disk. \n",
    "\n",
    "Alternatively, one can open the file in a mode that automatically closes the file when done. "
   ]
  },
  {
   "cell_type": "code",
   "execution_count": null,
   "metadata": {},
   "outputs": [],
   "source": [
    "with open(\"../Data/test1.txt\", \"w\") as myfile:\n",
    "    myfile.write(\"My first file written from Python \\n\")\n",
    "    myfile.write(\"---------------------------------\\n\")\n",
    "    myfile.write(\"Hello, world!\\n\")"
   ]
  },
  {
   "cell_type": "markdown",
   "metadata": {},
   "source": [
    "Let's check what else we can do with `open`."
   ]
  },
  {
   "cell_type": "code",
   "execution_count": null,
   "metadata": {},
   "outputs": [],
   "source": [
    "?open"
   ]
  },
  {
   "cell_type": "markdown",
   "metadata": {},
   "source": [
    "#### Fetching file from the web\n",
    "Download this [file](https://www.uniprot.org/docs/humchrx.txt) we will use to explore file reading in python. "
   ]
  },
  {
   "cell_type": "code",
   "execution_count": null,
   "metadata": {},
   "outputs": [],
   "source": [
    "import urllib.request                                 #Script for python to replace 'wget for bash'....so import urlib.request\n",
    "\n",
    "url = \"https://www.uniprot.org/docs/humchrx.txt\"      #specify url\n",
    "destination_filename = \"../Data/humchrx.txt\"          #specify destination\n",
    "urllib.request.urlretrieve(url, destination_filename) #format of the import script"
   ]
  },
  {
   "cell_type": "markdown",
   "metadata": {},
   "source": [
    "#### Reading a file line-at-a-time\n",
    "\n",
    "We can read the file line by line using `readline`. Thie reads the line one by one until the end of the file. This is suitable for a large file which may not fit memory. "
   ]
  },
  {
   "cell_type": "code",
   "execution_count": null,
   "metadata": {},
   "outputs": [],
   "source": [
    "humchrx = open('../Data/humchrx.txt', 'r')\n",
    "line = humchrx.readlines()\n",
    "print(line)"
   ]
  },
  {
   "cell_type": "code",
   "execution_count": null,
   "metadata": {},
   "outputs": [],
   "source": [
    "humchrx.close()"
   ]
  },
  {
   "cell_type": "code",
   "execution_count": null,
   "metadata": {},
   "outputs": [],
   "source": [
    "with open('../Data/test.txt', 'r') as myfile:\n",
    "    while True:\n",
    "        line = myfile.readline()\n",
    "        if len(line) == 0: # If there are no more lines\n",
    "            break\n",
    "        print(line) "
   ]
  },
  {
   "cell_type": "code",
   "execution_count": null,
   "metadata": {},
   "outputs": [],
   "source": [
    "with open('../Data/humchrx.txt', 'r') as myfile:\n",
    "    while True:\n",
    "        line = myfile.readline()\n",
    "        if len(line) == 0: # If there are no more lines\n",
    "            break\n",
    "        print(line) "
   ]
  },
  {
   "cell_type": "markdown",
   "metadata": {},
   "source": [
    "### Read the whole file\n",
    "\n",
    "If the file is small or PC has enough memory, you can read the whole file into memory as a list using `readlines`."
   ]
  },
  {
   "cell_type": "code",
   "execution_count": null,
   "metadata": {},
   "outputs": [],
   "source": [
    "with open('../Data/test.txt', 'r') as myfile:\n",
    "    lines = myfile.readlines()                 #reads line per line\n",
    "    for line in lines:\n",
    "        print(line)"
   ]
  },
  {
   "cell_type": "markdown",
   "metadata": {},
   "source": [
    "or as a whole"
   ]
  },
  {
   "cell_type": "code",
   "execution_count": null,
   "metadata": {},
   "outputs": [],
   "source": [
    "with open('../Data/test.txt', 'r') as myfile:\n",
    "    whole_file = myfile.read()                  #reads file as a single line\n",
    "    print(whole_file)"
   ]
  },
  {
   "cell_type": "code",
   "execution_count": null,
   "metadata": {},
   "outputs": [],
   "source": [
    "with open('../Data/humchrx.txt', 'r') as myfile:\n",
    "    whole_file = myfile.read()                  #reads file as a single line\n",
    "    print(whole_file)"
   ]
  },
  {
   "cell_type": "code",
   "execution_count": null,
   "metadata": {},
   "outputs": [],
   "source": [
    "### Note: if 'r' meets a blank line, it will print '\\n' for that"
   ]
  },
  {
   "cell_type": "markdown",
   "metadata": {},
   "source": [
    "### Exercise 1\n",
    "\n",
    "Write a function the reads the file (humchr.txt) and writes to another file (gene_names.txt) a clean list of gene names."
   ]
  },
  {
   "cell_type": "code",
   "execution_count": null,
   "metadata": {},
   "outputs": [],
   "source": [
    "humchr=open('../Data/humchrx.txt', 'r')"
   ]
  },
  {
   "cell_type": "code",
   "execution_count": null,
   "metadata": {},
   "outputs": [],
   "source": [
    "line = humchr.readlines()"
   ]
  },
  {
   "cell_type": "code",
   "execution_count": null,
   "metadata": {},
   "outputs": [],
   "source": [
    "line"
   ]
  },
  {
   "cell_type": "code",
   "execution_count": null,
   "metadata": {},
   "outputs": [],
   "source": [
    "line = humchr.readline() #Investigate"
   ]
  },
  {
   "cell_type": "code",
   "execution_count": null,
   "metadata": {},
   "outputs": [],
   "source": [
    "for line in humchr:\n",
    "    print(line)           #prints antents of the file"
   ]
  },
  {
   "cell_type": "code",
   "execution_count": null,
   "metadata": {},
   "outputs": [],
   "source": [
    "writeGeneList(clean_gene_list)"
   ]
  },
  {
   "cell_type": "markdown",
   "metadata": {},
   "source": [
    "## Exercises"
   ]
  },
  {
   "cell_type": "markdown",
   "metadata": {},
   "source": [
    " 1. Write a function `areatriangle(b,h)` to compute the area of a triangle: formula is `area = .5*b*h`. Output should look like: \n",
    " \n",
    " `The area of a triangle of base 3 and height 5 is 7.5`"
   ]
  },
  {
   "cell_type": "code",
   "execution_count": null,
   "metadata": {},
   "outputs": [
    {
     "name": "stdout",
     "output_type": "stream",
     "text": [
      " The area of the triangle of base 3 and height 5 is  7.5\n"
     ]
    }
   ],
   "source": [
    "def areatriangle(b,h):\n",
    "    Area = 0.5 * b * h\n",
    "    print(\" The area of the triangle of base 3 and height 5 is \" , Area)\n",
    "areatriangle(3,5)\n",
    "\n",
    "    "
   ]
  },
  {
   "cell_type": "markdown",
   "metadata": {},
   "source": [
    "2. Write a function `celsius_to_fahrenheit(temp)` to convert Celsius to Fahrentheit temperature. The formula is `(9/5) times temp plus 32`. Print the output in the form: \n",
    " \n",
    "`The Celsius temperature 50.0 is equivalent to 122.0 degrees Fahrenheit.`"
   ]
  },
  {
   "cell_type": "code",
   "execution_count": null,
   "metadata": {},
   "outputs": [
    {
     "name": "stdout",
     "output_type": "stream",
     "text": [
      "The Celsius temperature 50 is equivalent to 122.0 degrees Fahrenheit.\n"
     ]
    }
   ],
   "source": [
    "def celsius_to_fahrenheit(temp):\n",
    "    temp_fahrenheit = (9/5) * temp + 32\n",
    "    print(\"The Celsius temperature\", temp, \"is equivalent to\" , temp_fahrenheit, \"degrees Fahrenheit.\")\n",
    "celsius_to_fahrenheit(50)\n",
    "\n"
   ]
  },
  {
   "cell_type": "markdown",
   "metadata": {},
   "source": [
    "3. Create a function that prompts the user for their first and last name. The function written should include the city and state.\n",
    "That is, ask two more questions to get the city and the state you live in. Print where you are from on a new line. Put the customary comma between\n",
    "city and state. Your run should look like the following: \n",
    "\n",
    "\n",
    "```  \n",
    "Enter your first name: Ivan\n",
    "Enter your last name: Lloyd\n",
    "Enter the city you live in: Kampala\n",
    "Enter the state you live in: Central\n",
    "\n",
    "Your name is: Ivan Lloyd\n",
    "You live in:  Kampala, Central\n"
   ]
  },
  {
   "cell_type": "code",
   "execution_count": null,
   "metadata": {},
   "outputs": [
    {
     "name": "stdout",
     "output_type": "stream",
     "text": [
      "Your name is :  Sandra Babirye\n",
      "you live in :  Kampala Central\n"
     ]
    }
   ],
   "source": [
    "def Demographics () :\n",
    "    firstname= input(\"Enter your first name :\")\n",
    "    lastname = input(\"Enter your last name : \")\n",
    "    City = input(\"Enter the city you live in \")\n",
    "    state = input(\"Enter the state you luve in \")\n",
    "\n",
    "    print(\"Your name is : \" , firstname, lastname)\n",
    "\n",
    "    print(\"you live in : \" , City, state )\n",
    "Demographics()"
   ]
  },
  {
   "cell_type": "code",
   "execution_count": null,
   "metadata": {},
   "outputs": [
    {
     "name": "stdout",
     "output_type": "stream",
     "text": [
      "Your name is :  Karen Kaliza\n",
      "you live in :  Washing ton DC\n"
     ]
    }
   ],
   "source": [
    "def Demographics (firstname, lastname, City, state) :\n",
    "    firstname= input(\"Enter your first name :\")\n",
    "    lastname = input(\"Enter your last name : \")\n",
    "    City = input(\"Enter the city you live in \")\n",
    "    state = input(\"Enter the state you luve in \")\n",
    "\n",
    "    print(\"Your name is : \" , firstname, lastname)\n",
    "\n",
    "    print(\"you live in : \" , City, state )\n",
    "Demographics(firstname,lastname, City, state)"
   ]
  },
  {
   "cell_type": "code",
   "execution_count": null,
   "metadata": {},
   "outputs": [
    {
     "name": "stdout",
     "output_type": "stream",
     "text": [
      "Your name is :  Sandra Babirye\n",
      "you live in :  Kampala Central\n"
     ]
    }
   ],
   "source": [
    "def Info(firstname, lastname, City, State):\n",
    "     print(\"Your name is : \" , firstname, lastname)\n",
    "     print(\"you live in : \" , City, state )\n",
    "\n",
    "Info(\"Sandra\", \"Babirye\", \"Kampala\", \"Central\")\n",
    "    "
   ]
  },
  {
   "cell_type": "markdown",
   "metadata": {},
   "source": []
  },
  {
   "cell_type": "markdown",
   "metadata": {},
   "source": [
    "4. Write a function `count_down()` that starts at 10 and counts down to rocket launch. It's output should be:  \n",
    "`10 9 8 7 6 5 4 3 2 1 BLASTOFF!`  \n",
    "\n",
    "You can make all the numbers on the same line or different lines. Use a while loop."
   ]
  },
  {
   "cell_type": "code",
   "execution_count": null,
   "metadata": {},
   "outputs": [
    {
     "ename": "KeyboardInterrupt",
     "evalue": "",
     "output_type": "error",
     "traceback": [
      "\u001b[0;31m---------------------------------------------------------------------------\u001b[0m",
      "\u001b[0;31mKeyboardInterrupt\u001b[0m                         Traceback (most recent call last)",
      "\u001b[1;32m/home/sandra/Desktop/MscMak2022-IntroductionToPython/Notebooks/07.ipynb Cell 45'\u001b[0m in \u001b[0;36m<cell line: 2>\u001b[0;34m()\u001b[0m\n\u001b[1;32m      <a href='vscode-notebook-cell:/home/sandra/Desktop/MscMak2022-IntroductionToPython/Notebooks/07.ipynb#ch0000041?line=0'>1</a>\u001b[0m Count\u001b[39m=\u001b[39m \u001b[39m0\u001b[39m\n\u001b[1;32m      <a href='vscode-notebook-cell:/home/sandra/Desktop/MscMak2022-IntroductionToPython/Notebooks/07.ipynb#ch0000041?line=1'>2</a>\u001b[0m \u001b[39mwhile\u001b[39;00m Count \u001b[39m<\u001b[39m\u001b[39m=\u001b[39m\u001b[39m10\u001b[39m:\n\u001b[0;32m----> <a href='vscode-notebook-cell:/home/sandra/Desktop/MscMak2022-IntroductionToPython/Notebooks/07.ipynb#ch0000041?line=2'>3</a>\u001b[0m     Count\u001b[39m=\u001b[39mCount\u001b[39m-\u001b[39;49m\u001b[39m1\u001b[39;49m\n\u001b[1;32m      <a href='vscode-notebook-cell:/home/sandra/Desktop/MscMak2022-IntroductionToPython/Notebooks/07.ipynb#ch0000041?line=3'>4</a>\u001b[0m \u001b[39mprint\u001b[39m(\u001b[39m\"\u001b[39m\u001b[39mBLASTOFF!\u001b[39m\u001b[39m\"\u001b[39m)\n",
      "\u001b[0;31mKeyboardInterrupt\u001b[0m: "
     ]
    }
   ],
   "source": [
    "Count= 0\n",
    "while Count <=10:\n",
    "    Count=Count-1\n",
    "    print(Count)\n",
    "print(\"BLASTOFF!\")\n",
    "\n",
    "# range(10,0,1)\n"
   ]
  },
  {
   "cell_type": "markdown",
   "metadata": {},
   "source": [
    "5. Write a function `sum_prod(x,y)` that prints the sum and product of the numbers x and y on separate lines, the sum printing first."
   ]
  },
  {
   "cell_type": "code",
   "execution_count": null,
   "metadata": {},
   "outputs": [],
   "source": []
  },
  {
   "cell_type": "markdown",
   "metadata": {},
   "source": [
    "6. Write a function `steps(n)` that adds up the numbers 1 through n and prints out the result. You should use either a `'while'` loop or a `'for'` loop. Be sure that you check your answer on several numbers n.  Be careful that your loop steps through all the numbers from 1 through and including n."
   ]
  },
  {
   "cell_type": "code",
   "execution_count": null,
   "metadata": {},
   "outputs": [],
   "source": []
  },
  {
   "cell_type": "markdown",
   "metadata": {},
   "source": [
    "7. Write a function `conv(miles)` to convert miles to feet. There are 5280 feet in each mile. Make the print out a statement as follows:  \n",
    "`There are 10560 feet in 2 miles.`  Except for the numbers, this statement should be exactly as written."
   ]
  },
  {
   "cell_type": "code",
   "execution_count": null,
   "metadata": {},
   "outputs": [],
   "source": []
  },
  {
   "cell_type": "markdown",
   "metadata": {},
   "source": [
    "8. Write a function `drinks(age)`. This function should use an `if-elif-else` statement to print out:  \n",
    "\n",
    "`Have a glass of milk.` for anyone under 7;  \n",
    "`Have a coke.` for anyone under 21, and   \n",
    "`Have a martini.` for anyone 21 or older.   \n",
    "\n",
    "Tip: Be careful about the ages 7 (a seven year old is not under 7) and 21. Also be careful to make the phrases exactly as shown.\n",
    "Test the runs (3 of them). Note that the test for the function output will use different numbers:\n",
    "\n",
    "```  \n",
    "drinks(5)\n",
    "Have a glass of milk.\n",
    "\n",
    "drinks(10)\n",
    "Have a coke.\n",
    "\n",
    "drinks(25)\n",
    "Have a martini."
   ]
  },
  {
   "cell_type": "code",
   "execution_count": null,
   "metadata": {},
   "outputs": [],
   "source": []
  },
  {
   "cell_type": "markdown",
   "metadata": {},
   "source": [
    "9. Write a function `odd_nums()` that prints the odd numbers from 1 through 100. Make all of these numbers appear on the same line (actually, when the line fills up it will wrap around, but ignore that.). In order to do this, your print statement should have `end=\" \"` in it. For example, `print(name,end=\" \")` will keep the next print statement from starting a new line. Be sure there is a space between these quotes or your numbers will run together. Use a single space as that is what the testing program expects. Use a 'for' loop and the `range()` function.  \n",
    "\n",
    "Things to be careful of that might go wrong: \n",
    "You print too many numbers, you put too much or too little space between them, you print each number on its own line, you print even numbers or all numbers, your first number isn't 1 or your last number isn't 99.  \n",
    "Always check first and last outputs when you write a loop.\n",
    "\n",
    "Test run (I've inserted a newline here to cause wrapping in the editor):\n",
    "\n",
    "```  \n",
    "odd_nums()\n",
    "1 3 5 7 9 11 13 15 17 19 21 23 25 27 29 31 33 35 37 39 41 43 45 47 49 51 53 55 \n",
    "57 59 61 63 65 67 69 71 73 75 77 79 81 83 85 87 89 91 93 95 97 99"
   ]
  },
  {
   "cell_type": "code",
   "execution_count": null,
   "metadata": {},
   "outputs": [],
   "source": []
  },
  {
   "cell_type": "markdown",
   "metadata": {},
   "source": [
    "10. Write a function `trapez()` that computes the area of a trapezoid. Here is the formula: `A = (1/2)(b1+b2)h`. In the formula b1 is the length of one of the bases, b2 the other. The height is h and the area is A. Basically, this takes the average of the two bases times the height. For a rectangle b1 = b2, so this reduces to b1*h. This means that you can do a pretty good test of the correctness of your function using a rectangle (that way you can compute the answer in your head). Use input statements to ask for the bases and the height.\n",
    "Convert these input strings to real numbers using `float()`. Print the output nicely EXACTLY like mine below.\n",
    "\n",
    "Tip: Be careful that your output on the test case below is exactly as shown so that the testing function judges your output correctly.  The testing function does not look at your input statements, so you don't have to use my input prompts if you don't want to. However, testing function will enter the three inputs in the order shown. See the other test run below.\n",
    "\n",
    "```  \n",
    "trapez()\n",
    "Enter the length of one of the bases: 3\n",
    "Enter the length of the other base: 4\n",
    "Enter the height: 8\n",
    "The area of a trapezoid with bases 3.0 and 4.0 and height 8.0 is 28.0\n",
    "\n",
    "\n",
    "Another test run. In grading, expect different input numbers to be used.\n",
    "\n",
    "trapez()\n",
    "Enter the length of one of the bases: 10\n",
    "Enter the length of the other base: 11\n",
    "Enter the height: 12\n",
    "The area of a trapezoid with bases 10.0 and 11.0 and height 12.0 is 126.0"
   ]
  },
  {
   "cell_type": "code",
   "execution_count": null,
   "metadata": {},
   "outputs": [
    {
     "name": "stdout",
     "output_type": "stream",
     "text": [
      " Enter the length of one of the bases  :  3.0\n",
      " Enter the length of the second base  :  4.0\n",
      " Enter the height  :  8.0\n",
      "The area of a trapezoid with bases 9.0 12.0 15.0 is 28.0\n"
     ]
    }
   ],
   "source": [
    "b1 = float(input(\"Enter the  length of one of the bases: \"))\n",
    "b2 = float(input(\"Enter the  length of the other base : \"))\n",
    "h = float(input(\"Enter the height: \"))\n",
    "\n",
    "def trapez ():\n",
    "    print(\" Enter the length of one of the bases  : \", b1)\n",
    "    print(\" Enter the length of the second base  : \", b2)\n",
    "    print(\" Enter the height  : \", h)\n",
    "\n",
    "    Area = (b1 + b2 ) * h * 0.5\n",
    "\n",
    "    print(\"The area of a trapezoid with bases %.1f %.1f %.1f\" %(a,b,c) , \"is %.1f\" % Area)\n",
    "\n",
    "trapez()\n"
   ]
  },
  {
   "cell_type": "markdown",
   "metadata": {},
   "source": [
    "11. Write a function `diner_waitress()` that asks for you order. First start an empty list, call it order. Then use a `while loop and an input()` statement to gather the order. Continue in the while loop until the customer says `that's all`. One way to end the loop is to use `break` to break out of the loop when `that's all` is entered. Recall that you can add to a list by using the list's .append() method; suppose that your list is called order. You are going to have to input one food at a time and append it to the order list. Then print out the order. Here is my run:  \n",
    "```  \n",
    "diner_waitress()\n",
    "\n",
    "Hello, I'll be your waitress. What will you have?\n",
    "\n",
    "menu item: eggs\n",
    "menu item: bacon\n",
    "menu item: toast\n",
    "menu item: jelly\n",
    "menu item: that's all\n",
    "\n",
    "You've ordered:\n",
    "['eggs', 'bacon', 'toast', 'jelly']"
   ]
  },
  {
   "cell_type": "code",
   "execution_count": null,
   "metadata": {},
   "outputs": [],
   "source": []
  },
  {
   "cell_type": "code",
   "execution_count": 10,
   "metadata": {},
   "outputs": [
    {
     "name": "stdout",
     "output_type": "stream",
     "text": [
      "Hello, I'll be your waitress. What will you have ?\n",
      "menu item: eggs\n",
      "menu item: bacon\n",
      "menu item: toast\n",
      "menu item: jelly\n",
      "menu item: that's all\n",
      "you have ordered : ['eggs', 'toast']\n"
     ]
    }
   ],
   "source": [
    "\n",
    "MENU = [\"eggs\", \"bacon\", \"toast\", \"jelly\",\"that's all\"]\n",
    "\n",
    "\n",
    "def diner_waitress():\n",
    "\n",
    "    order = []\n",
    "\n",
    "    print( \"Hello, I'll be your waitress. What will you have ?\")\n",
    "\n",
    "    for i in MENU :\n",
    "        print(\"menu item:\",  i[0:])\n",
    "\n",
    "    \n",
    "    while MENU != \"that's all\" :\n",
    "\n",
    "        choice = input(\"What would you like to have : \")\n",
    "\n",
    "        if choice in MENU :\n",
    "\n",
    "            order.append(choice)\n",
    "\n",
    "            continue\n",
    "        \n",
    "        else:\n",
    "            #print(\"I'm sorry, we don't serve that. that's all\")\n",
    "            break\n",
    "    print(\"you have ordered :\", order)\n",
    "\n",
    "\n",
    "diner_waitress()"
   ]
  },
  {
   "cell_type": "code",
   "execution_count": null,
   "metadata": {},
   "outputs": [],
   "source": []
  },
  {
   "cell_type": "markdown",
   "metadata": {},
   "source": [
    "12. Heron's formula for computing the area of a triangle with sides a, b, and c is as follows. Let `s = .5(a + b + c)` --- that is, 1/2 of the perimeter of the triangle. Then the area is the square root of `s(s-a)(s-b)(s-c)`. You can compute the square root of x by `x**.5` (raise x to the 1/2 power). Use an input statement to get the length of the sides. Don't forget to convert this input to a real number using float(). Adjust your output to be just like what you see below. Here is a run of my program:\n",
    "\n",
    "```  \n",
    "heron()\n",
    "\n",
    "Enter length of side one: 9\n",
    "Enter length of side two: 12\n",
    "Enter length of side three: 15\n",
    "\n",
    "Area of a triangle with sides 9.0 12.0 15.0 is 54.0"
   ]
  },
  {
   "cell_type": "code",
   "execution_count": 30,
   "metadata": {},
   "outputs": [
    {
     "name": "stdout",
     "output_type": "stream",
     "text": [
      " Enter Lenght of side one :  9.0\n",
      " Enter Lenght of side one :  12.0\n",
      " Enter Lenght of side one :  15.0\n",
      "Area of triangle with sides 9.0 12.0 15.0 is 54.0\n"
     ]
    }
   ],
   "source": [
    "a = float(input(\"Enter Length of side one: \"))\n",
    "b = float(input(\"Enter Length of side two: \"))\n",
    "c = float(input(\"Enter Length of side three: \"))\n",
    "\n",
    "def Heron():\n",
    "    print(\" Enter Lenght of side one : \", a)\n",
    "    print(\" Enter Lenght of side one : \", b)\n",
    "    print(\" Enter Lenght of side one : \", c)\n",
    "\n",
    "    s = (a + b + c) /2\n",
    "\n",
    "    Area = (s *(s-a)*(s-b)*(s-c)) ** 0.5\n",
    "\n",
    "\n",
    "    print(\"Area of triangle with sides %.1f %.1f %.1f\" %(a,b,c) , \"is %.1f\" % Area)\n",
    "\n",
    "\n",
    "Heron()"
   ]
  },
  {
   "cell_type": "markdown",
   "metadata": {},
   "source": [
    "13. The following list gives the hourly temperature during a 24 hour day. Write a function, that will take such a list and compute 3 things: average temperature, high (maximum temperature), and low (minimum temperature) for the day.  I will test with a different set of temperatures, so don't pick out the low or the high and code it into your program. This should work for other hourly_temp lists as well. This can be done by looping (iterating) through the list. I suggest you not write it all at once. You might write a function that computes just one of these, say average, then improve it to handle another, say maximum, etc. Sample run using the list hourly_temp. \n",
    "\n",
    "Note that the testing function will use a different hourly list.  Be sure that you function works on this list and test it on at least one other list of your own construction. Note also, that the list the grader uses may not have the same number of items as this one.\n",
    "\n",
    "\n",
    "hourly_temp  = [40.0, 39.0, 37.0, 34.0, 33.0, 34.0, 36.0, 37.0, 38.0, 39.0, \\\n",
    "               40.0, 41.0, 44.0, 45.0, 47.0, 48.0, 45.0, 42.0, 39.0, 37.0, \\\n",
    "               36.0, 35.0, 33.0, 32.0]\n",
    "\n",
    "\n",
    "```  \n",
    "weather(hourly_temp)\n",
    "Average: 38.791666666666664\n",
    "High: 48.0\n",
    "Low: 32.0"
   ]
  },
  {
   "cell_type": "code",
   "execution_count": 23,
   "metadata": {},
   "outputs": [
    {
     "name": "stdout",
     "output_type": "stream",
     "text": [
      "Average :38.791666666666664\n",
      "High:48.0\n",
      "Low:32.0\n"
     ]
    }
   ],
   "source": [
    "hourly_temp  = [40.0, 39.0, 37.0, 34.0, 33.0, 34.0, 36.0, 37.0, 38.0, 39.0, \\\n",
    "               40.0, 41.0, 44.0, 45.0, 47.0, 48.0, 45.0, 42.0, 39.0, 37.0, \\\n",
    "               36.0, 35.0, 33.0, 32.0]\n",
    "\n",
    "\n",
    "def weather(hourly_temp ):\n",
    "    \n",
    "    for x in hourly_temp:\n",
    "        Length = len(hourly_temp)\n",
    "        Average= sum(hourly_temp)/ Length\n",
    "        High = max(hourly_temp)\n",
    "        Low = min(hourly_temp)\n",
    "    print(\"Average :\" + str(Average)+ \"\\n\" + \"High:\" + str(High) + \"\\n\" + \"Low:\" + str(Low))\n",
    "\n",
    "weather(hourly_temp)\n"
   ]
  },
  {
   "cell_type": "markdown",
   "metadata": {},
   "source": [
    "14. Write a function that is complementary to the one in the previous problem that will convert a date such as June 17, 2016 into the format 6/17/2016.  I suggest that you use a dictionary to convert from the name of the month to the number of the month. Then it is easy to look up the month number as months[\"February\"] and so on. Note that the month names should begin with capital letters. \n",
    " \n",
    "***Tip:***    \n",
    "In print statements, commas create a space.  So you may have difficulty avoiding a space between the 7, 17, and 2016 below and the following comma.  I suggest that you build the output as a single string containing the properly formatted date and then print that.  You can convert any number to string by using str() and tie the parts together using +. Duplicate the format of the example output exactly. \n",
    "\n",
    "Here is a printout of my run for June 17, 2016.\n",
    "\n",
    "```  \n",
    "date_conv_modified(\"July\",17, 2016)\n",
    "7/17/2016"
   ]
  },
  {
   "cell_type": "code",
   "execution_count": null,
   "metadata": {},
   "outputs": [],
   "source": []
  },
  {
   "cell_type": "markdown",
   "metadata": {},
   "source": [
    "15. Write a function temp_stat(temps) to compute the average, median, standard deviation and variance of the temperatures in the table.  Print each out.\n",
    "The following code generates the same temperatures each time because the seed is set to 150. Print the temperature list as the first line of the function.\n",
    "\n",
    "Here is what my run on the table of temperatures built below looks like:\n",
    "\n",
    "```  \n",
    "temp_stat(temperatures)\n",
    "[52, 61, 45, 50, 44, 34, 57, 80, 91, 50, 38, 91, 84, 20, 55, 23, 83, 42, 44, 84]\n",
    "Mean:  56.4\n",
    "Median:  51.0\n",
    "Standard deviation:  22.04397518836526\n",
    "Variance:  485.9368421052631\n",
    "\n",
    "```"
   ]
  },
  {
   "cell_type": "code",
   "execution_count": null,
   "metadata": {},
   "outputs": [],
   "source": []
  },
  {
   "cell_type": "markdown",
   "metadata": {},
   "source": [
    "16. Write a function `write_to_file(filename,myname,myage,major)` that opens the file <filename> and writes 3 lines in it using the data given. Here is a sample of what could be in the file. Call the file 'namefile.txt', so that it is identifiable as a text file:\n",
    "\n",
    "```  \n",
    "My name is George  \n",
    "My age is 21   \n",
    "I am majoring in Physics\n",
    "\n",
    "```\n",
    "\n",
    "Tips: \n",
    "1. `write_to_file()` can take only a string and, in fact, only one. So whatever you write has to be put together into one string (using +, for example).\n",
    "2. Add `+\"\\n\"` on the end of each write to put a newline at the end of each line. Otherwise, everything will be jammed together on one line.\n",
    "3. Convert your age (a number) to a string -- use `str()` to do that. Then join it to the other parts of the string before writing.\n",
    "4. When running the function, use quotes around every argument except the number."
   ]
  },
  {
   "cell_type": "code",
   "execution_count": null,
   "metadata": {},
   "outputs": [],
   "source": [
    "# You can use a list and a for loop to iterate and use \"\\n\"\n",
    "\n",
    "# def write_to_file(filename, myname, myage, major):\n",
    "#     with open (filename, 'w') as outfile:\n",
    "#         outfile=outfile.write(\"My name is \"+ myname + \" \\n\")\n",
    "#         outfile=outfile.write(\"My age is \" + str(myage) + \"\\n\")\n",
    "#         outfile=outfile.write(\"I am majoring in \" + major + \"\\n\")\n",
    "\n",
    "# write_to_file(\"../Data/namesfile.txt\", \"George\",21 , \"Physics\")\n",
    "        \n",
    "        \n",
    "\n"
   ]
  },
  {
   "cell_type": "code",
   "execution_count": 48,
   "metadata": {},
   "outputs": [],
   "source": [
    "def write_to_file(filename, myname, myage, major):\n",
    "    # open file first\n",
    "    outfile = open(filename,'w')\n",
    "    outfile.write(\"My name is \"+ myname + \" \\n\")\n",
    "    outfile.write(\"My age is \" + str(myage) + \"\\n\")\n",
    "    outfile.write(\"I am majoring in \" + major + \"\\n\")\n",
    "    outfile.close\n",
    "\n",
    "write_to_file(\"../Data/namesfile.txt\", \"George\",  21 , \"Physics\")\n",
    "        \n",
    "\n"
   ]
  },
  {
   "cell_type": "markdown",
   "metadata": {},
   "source": [
    "17. Write a function that can enter the productand its cost and it will print out nicely. Specifically, allow 25 characters for the product name and left-justify it in that space; allow 6 characters for the cost and right justify it in that space with 2 decimal places. Precede the cost with a dollar-sign.  There should be no other spaces in the output.\n",
    "\n",
    "Here is how one of my runs looks:\n",
    "```  \n",
    "toothbrush               $  2.60\n",
    "\n",
    "```"
   ]
  },
  {
   "cell_type": "code",
   "execution_count": 11,
   "metadata": {},
   "outputs": [
    {
     "name": "stdout",
     "output_type": "stream",
     "text": [
      "toothbrush                    $    2.60\n"
     ]
    }
   ],
   "source": [
    "# String formatting < left justification , > right justification\n",
    "\n",
    "def problem(product, cost):\n",
    "\n",
    "     outputstr = \"{0:<25}  {1:>4}  {2:>6.2f}\"\n",
    "\n",
    "     print(outputstr.format(product, \"$\", cost))\n",
    "problem(\"toothbrush\", 2.600)"
   ]
  },
  {
   "cell_type": "markdown",
   "metadata": {},
   "source": [
    "18. Write a program that will sort an alphabetic list (or list of words) into alphabetical order. Make it sort independently of whether the letters are \n",
    "capital or lowercase. First print out the wordlist, then sort and print out the sorted list. Here is my run on the list firstline below (note that the wrapping was added when I pasted it into the file -- this is really two lines in the output).\n",
    "\n",
    "```  \n",
    "['Happy', 'families', 'are', 'all', 'alike;', 'every', 'unhappy', 'family',\n",
    " 'is', 'unhappy', 'in', 'its', 'own', 'way.', 'Leo Tolstoy', 'Anna Karenina']\n",
    "['alike;', 'all', 'Anna Karenina', 'are', 'every', 'families', 'family',\n",
    "'Happy', 'in', 'is', 'its', 'Leo Tolstoy', 'own', 'unhappy', 'unhappy', 'way.']\n",
    "\n",
    "```"
   ]
  },
  {
   "cell_type": "code",
   "execution_count": 2,
   "metadata": {},
   "outputs": [
    {
     "name": "stdout",
     "output_type": "stream",
     "text": [
      "['Happy', 'families', 'are', 'all', 'alike;', 'every', 'unhappy', 'family', 'is', 'unhappy', 'in', 'its', 'own', 'way.', 'Leo Tolstoy', 'Anna Karenina']\n",
      "['alike;', 'all', 'Anna Karenina', 'are', 'every', 'families', 'family', 'Happy', 'in', 'is', 'its', 'Leo Tolstoy', 'own', 'unhappy', 'unhappy', 'way.']\n"
     ]
    }
   ],
   "source": [
    "Alphabetical_list = ['Happy', 'families', 'are', 'all', 'alike;', 'every', 'unhappy', 'family',\n",
    " 'is', 'unhappy', 'in', 'its', 'own', 'way.', 'Leo Tolstoy', 'Anna Karenina']\n",
    "\n",
    "def alphabet(word_list):\n",
    "    print(word_list)\n",
    "    print(sorted(word_list, key=str.lower))\n",
    "\n",
    "alphabet(Alphabetical_list)\n",
    "\n",
    "\n"
   ]
  },
  {
   "cell_type": "markdown",
   "metadata": {},
   "source": [
    "### Scripts and Modules\n",
    "\n",
    "A script is a file containing Python definitions and statements for performing some analysis. Scripts are known as when they are intended for use in other Python programs. Many Python modules come with Python as part of the standard library. \n",
    "\n",
    "You can get a list of available modules using help() and explore them."
   ]
  },
  {
   "cell_type": "markdown",
   "metadata": {},
   "source": [
    "### Exercise 2\n",
    "\n",
    "1. Convert the function you wrote in exercise 1 into a python module. Then, import the module and use the function to read `humchrx.txt` file and create a gene list file.\n",
    "2. Create a stand-alone script that does all the above."
   ]
  },
  {
   "cell_type": "code",
   "execution_count": 63,
   "metadata": {},
   "outputs": [
    {
     "name": "stdout",
     "output_type": "stream",
     "text": [
      "bank.py         csv_files.py  genelist.py       seqtools.py\n",
      "copy_file.py    dnatools.py   \u001b[0m\u001b[01;34m__pycache__\u001b[0m/      sysargv.py\n",
      "count_words.py  genefunction  pythonscripts.py\n"
     ]
    }
   ],
   "source": [
    "ls"
   ]
  },
  {
   "cell_type": "code",
   "execution_count": 64,
   "metadata": {},
   "outputs": [
    {
     "name": "stdout",
     "output_type": "stream",
     "text": [
      "[Errno 2] No such file or directory: 'Scripts/'\n",
      "/home/sandra/Desktop/MscMak2022-IntroductionToPython My own/Scripts\n"
     ]
    }
   ],
   "source": [
    "cd Scripts/"
   ]
  },
  {
   "cell_type": "code",
   "execution_count": 65,
   "metadata": {},
   "outputs": [
    {
     "name": "stdout",
     "output_type": "stream",
     "text": [
      "Genes have been written successfully!!\n"
     ]
    }
   ],
   "source": [
    "\"\"\"write_genes.py takes an annotation file and\n",
    "writes gene names to file\n",
    "Usage:\n",
    "    python write_genes.py <>\"\"\"\n",
    "#import sys\n",
    "\n",
    "# print(gene_file)\n",
    "# print(out_file)\n",
    "#dna_list=list('ACGT')\n",
    "def getGenList(gene_file):\n",
    "    with open (gene_file, 'r') as humchr:\n",
    "        tag = False #Start by setting the tag to false\n",
    "        gene_list=[]\n",
    "        for line in humchr:\n",
    "                if line.startswith('Gene'):\n",
    "                    tag = True\n",
    "                if tag:\n",
    "                    line_split = line.split()\n",
    "                    if len(line_split) != 0:\n",
    "                        if '-' in line_split[0]:\n",
    "                            continue\n",
    "                        else:\n",
    "                            gene_list.append(line_split[0])\n",
    "    return gene_list[3:][:-2]\n",
    "\n",
    "inputfile  = getGenList(\"../Data/humchrx.txt\")\n",
    "\n",
    "def writeGeneList(genelist, outfile):\n",
    "    genelist= inputfile\n",
    "    \n",
    "    with open(outfile, 'w') as gene_names:   #creating a new file called gene_names\n",
    "        for gene in genelist:\n",
    "                gene_names.writelines(gene+'\\n')\n",
    "    print('Genes have been written successfully!!')\n",
    "writeGeneList(\"../Data/humchrx.txt\", \"../Data/gene_names\")\n",
    "# if len(sys.argv) < 3:\n",
    "#     print(__doc__)\n",
    "# else:\n",
    "#     gene_file = sys.argv[1]\n",
    "#     out_file = sys.argv[2]\n",
    "#     clean_gene_list = getGenList(gene_file)\n",
    "#     writeGeneList(clean_gene_list, out_file)"
   ]
  },
  {
   "cell_type": "code",
   "execution_count": 45,
   "metadata": {},
   "outputs": [
    {
     "name": "stdout",
     "output_type": "stream",
     "text": [
      "total 40\n",
      "-rw-rw-r-- 1 sandra sandra 1112 Jul  5 10:29 bank.py\n",
      "-rw-rw-r-- 1 sandra sandra  270 Jul  8 10:21 copy_file.py\n",
      "-rw-rw-r-- 1 sandra sandra 1091 Jul  8 10:21 count_words.py\n",
      "-rw-rw-r-- 1 sandra sandra  168 Jul  8 10:21 csv_files.py\n",
      "-rw-rw-r-- 1 sandra sandra 1477 Jul  5 10:29 dnatools.py\n",
      "-rw-rw-r-- 1 sandra sandra  662 Jul  9 21:46 genefunction\n",
      "-rw-rw-r-- 1 sandra sandra  663 Jul  9 22:00 genelist.py\n",
      "drwxrwxr-x 2 sandra sandra 4096 Jul  9 21:46 \u001b[0m\u001b[01;34m__pycache__\u001b[0m/\n",
      "-rw-rw-r-- 1 sandra sandra 1625 Jul  5 10:29 pythonscripts.py\n",
      "-rw-rw-r-- 1 sandra sandra  157 Jul  5 10:29 sysargv.py\n"
     ]
    }
   ],
   "source": [
    "ls -l"
   ]
  },
  {
   "cell_type": "code",
   "execution_count": 46,
   "metadata": {},
   "outputs": [],
   "source": [
    "import genelist"
   ]
  },
  {
   "cell_type": "code",
   "execution_count": 47,
   "metadata": {},
   "outputs": [
    {
     "data": {
      "text/plain": [
       "['ABCB7',\n",
       " 'ABCD1',\n",
       " 'ACE2',\n",
       " 'ACOT9',\n",
       " 'ACSL4',\n",
       " 'ACTRT1',\n",
       " 'ADGRG2',\n",
       " 'ADGRG4',\n",
       " 'AFF2',\n",
       " 'AGTR2',\n",
       " 'AIFM1',\n",
       " 'AKAP14',\n",
       " 'AKAP17A',\n",
       " 'AKAP4',\n",
       " 'ALAS2',\n",
       " 'ALG13',\n",
       " 'AMELX',\n",
       " 'AMER1',\n",
       " 'AMMECR1',\n",
       " 'AMOT',\n",
       " 'ANOS1',\n",
       " 'AP1S2',\n",
       " 'APEX2',\n",
       " 'APLN',\n",
       " 'APOO',\n",
       " 'APOOL',\n",
       " 'AR',\n",
       " 'ARAF',\n",
       " 'ARHGAP36',\n",
       " 'ARHGAP4',\n",
       " 'ARHGAP6',\n",
       " 'ARHGEF6',\n",
       " 'ARHGEF9',\n",
       " 'ARL13A',\n",
       " 'ARMCX1',\n",
       " 'ARMCX2',\n",
       " 'ARMCX3',\n",
       " 'ARMCX4',\n",
       " 'ARMCX5',\n",
       " 'ARMCX6',\n",
       " 'ARR3',\n",
       " 'ARSD',\n",
       " 'ARSF',\n",
       " 'ARSH',\n",
       " 'ARSL',\n",
       " 'ARX',\n",
       " 'ASB11',\n",
       " 'ASB12',\n",
       " 'ASB9',\n",
       " 'ASMT',\n",
       " 'ASMTL',\n",
       " 'ATG4A',\n",
       " 'ATP11C',\n",
       " 'ATP1B4',\n",
       " 'ATP2B3',\n",
       " 'ATP6AP1',\n",
       " 'ATP6AP2',\n",
       " 'ATP7A',\n",
       " 'ATRX',\n",
       " 'ATXN3L',\n",
       " 'AVPR2',\n",
       " 'AWAT1',\n",
       " 'AWAT2',\n",
       " 'BCAP31',\n",
       " 'BCLAF3',\n",
       " 'BCOR',\n",
       " 'BCORL1',\n",
       " 'BEND2',\n",
       " 'BEX1',\n",
       " 'BEX2',\n",
       " 'BEX3',\n",
       " 'BEX4',\n",
       " 'BEX5',\n",
       " 'BGN',\n",
       " 'BHLHB9',\n",
       " 'BMP15',\n",
       " 'BMP2KL',\n",
       " 'BMX',\n",
       " 'BRCC3',\n",
       " 'BRS3',\n",
       " 'BRWD3',\n",
       " 'BTK',\n",
       " 'C1GALT1C1',\n",
       " 'CA5B',\n",
       " 'CA5BP1',\n",
       " 'CACNA1F',\n",
       " 'CAPN6',\n",
       " 'CASK',\n",
       " 'CBLL2',\n",
       " 'CCDC120',\n",
       " 'CCDC160',\n",
       " 'CCDC22',\n",
       " 'CCNB3',\n",
       " 'CCNQ',\n",
       " 'CD40LG',\n",
       " 'CD99',\n",
       " 'CD99L2',\n",
       " 'CDK16',\n",
       " 'CDKL5',\n",
       " 'CDR1',\n",
       " 'CDX4',\n",
       " 'CENPI',\n",
       " 'CENPVL1',\n",
       " 'CENPVL2',\n",
       " 'CENPVL3',\n",
       " 'CETN2',\n",
       " 'CFAP47',\n",
       " 'CFP',\n",
       " 'CHIC1',\n",
       " 'CHM',\n",
       " 'CHRDL1',\n",
       " 'CHST7',\n",
       " 'CITED1',\n",
       " 'CLCN4',\n",
       " 'CLCN5',\n",
       " 'CLDN2',\n",
       " 'CLDN34',\n",
       " 'CLIC2',\n",
       " 'CLTRN',\n",
       " 'CMC4',\n",
       " 'CNGA2',\n",
       " 'CNKSR2',\n",
       " 'COL4A5',\n",
       " 'COL4A6',\n",
       " 'COX7B',\n",
       " 'CPXCR1',\n",
       " 'CRLF2',\n",
       " 'CSAG1',\n",
       " 'CSAG2',\n",
       " 'CSAG3',\n",
       " 'CSF2RA',\n",
       " 'CSTF2',\n",
       " 'CT45A1',\n",
       " 'CT45A10',\n",
       " 'CT45A2',\n",
       " 'CT45A3',\n",
       " 'CT45A5',\n",
       " 'CT45A6',\n",
       " 'CT45A7',\n",
       " 'CT45A8',\n",
       " 'CT45A9',\n",
       " 'CT47A1',\n",
       " 'CT47A10',\n",
       " 'CT47A11',\n",
       " 'CT47A12',\n",
       " 'CT47A2',\n",
       " 'CT47A3',\n",
       " 'CT47A4',\n",
       " 'CT47A5',\n",
       " 'CT47A6',\n",
       " 'CT47A7',\n",
       " 'CT47A8',\n",
       " 'CT47A9',\n",
       " 'CT47B1',\n",
       " 'CT55',\n",
       " 'CT83',\n",
       " 'CTAG1A',\n",
       " 'CTAG1B',\n",
       " 'CTAG2',\n",
       " 'CTPS2',\n",
       " 'CUL4B',\n",
       " 'CXCR3',\n",
       " 'CXorf1',\n",
       " 'CXorf38',\n",
       " 'CXorf49',\n",
       " 'CXorf49B',\n",
       " 'CXorf51A',\n",
       " 'CXorf51B',\n",
       " 'CXorf58',\n",
       " 'CXorf65',\n",
       " 'CXorf66',\n",
       " 'CYBB',\n",
       " 'CYLC1',\n",
       " 'CYSLTR1',\n",
       " 'DACH2',\n",
       " 'DCAF12L1',\n",
       " 'DCAF12L2',\n",
       " 'DCAF8L1',\n",
       " 'DCAF8L2',\n",
       " 'DCX',\n",
       " 'DDX3X',\n",
       " 'DDX53',\n",
       " 'DENND10P1',\n",
       " 'DGAT2L6',\n",
       " 'DGKK',\n",
       " 'DHRSX',\n",
       " 'DIAPH2',\n",
       " 'DIPK2B',\n",
       " 'DKC1',\n",
       " 'DLG3',\n",
       " 'DMD',\n",
       " 'DMRTC1',\n",
       " 'DMRTC1B',\n",
       " 'DNAAF6',\n",
       " 'DNASE1L1',\n",
       " 'DOCK11',\n",
       " 'DRP2',\n",
       " 'DUSP21',\n",
       " 'DUSP9',\n",
       " 'DYNLT3',\n",
       " 'EBP',\n",
       " 'EDA',\n",
       " 'EDA2R',\n",
       " 'EFHC2',\n",
       " 'EFNB1',\n",
       " 'EGFL6',\n",
       " 'EIF1AX',\n",
       " 'EIF2S3',\n",
       " 'ELF4',\n",
       " 'ELK1',\n",
       " 'EMD',\n",
       " 'ENOX2',\n",
       " 'EOLA1',\n",
       " 'EOLA2',\n",
       " 'ERAS',\n",
       " 'ERCC6L',\n",
       " 'ERVFC1',\n",
       " 'ESX1',\n",
       " 'ETDA',\n",
       " 'ETDB',\n",
       " 'ETDC',\n",
       " 'EZHIP',\n",
       " 'F8',\n",
       " 'F8A1',\n",
       " 'F8A2',\n",
       " 'F8A3',\n",
       " 'F9',\n",
       " 'FAAH2',\n",
       " 'FAM104B',\n",
       " 'FAM120C',\n",
       " 'FAM133A',\n",
       " 'FAM156A',\n",
       " 'FAM156B',\n",
       " 'FAM199X',\n",
       " 'FAM223A',\n",
       " 'FAM223B',\n",
       " 'FAM236A',\n",
       " 'FAM236B',\n",
       " 'FAM236C',\n",
       " 'FAM236D',\n",
       " 'FAM3A',\n",
       " 'FAM47A',\n",
       " 'FAM47B',\n",
       " 'FAM47C',\n",
       " 'FAM47DP',\n",
       " 'FAM50A',\n",
       " 'FAM9A',\n",
       " 'FAM9B',\n",
       " 'FAM9C',\n",
       " 'FANCB',\n",
       " 'FATE1',\n",
       " 'FGD1',\n",
       " 'FGF13',\n",
       " 'FGF16',\n",
       " 'FHL1',\n",
       " 'FLNA',\n",
       " 'FMR1',\n",
       " 'FMR1NB',\n",
       " 'FOXO4',\n",
       " 'FOXP3',\n",
       " 'FOXR2',\n",
       " 'FRMD7',\n",
       " 'FRMD8P1',\n",
       " 'FRMPD3',\n",
       " 'FRMPD4',\n",
       " 'FTH1P19',\n",
       " 'FTHL17',\n",
       " 'FTSJ1',\n",
       " 'FUNDC1',\n",
       " 'FUNDC2',\n",
       " 'FXYD6P3',\n",
       " 'G6PD',\n",
       " 'GAB3',\n",
       " 'GABRA3',\n",
       " 'GABRE',\n",
       " 'GABRQ',\n",
       " 'GAGE1',\n",
       " 'GAGE10',\n",
       " 'GAGE12B',\n",
       " 'GAGE12C',\n",
       " 'GAGE12D',\n",
       " 'GAGE12E',\n",
       " 'GAGE12F',\n",
       " 'GAGE12G',\n",
       " 'GAGE12H',\n",
       " 'GAGE12I',\n",
       " 'GAGE12J',\n",
       " 'GAGE13',\n",
       " 'GAGE2A',\n",
       " 'GAGE2B',\n",
       " 'GAGE2C',\n",
       " 'GAGE2D',\n",
       " 'GAGE2E',\n",
       " 'GAGE4',\n",
       " 'GAGE5',\n",
       " 'GAGE6',\n",
       " 'GAGE7',\n",
       " 'GAGE8',\n",
       " 'GATA1',\n",
       " 'GCNA',\n",
       " 'GDI1',\n",
       " 'GDPD2',\n",
       " 'GEMIN8',\n",
       " 'GJB1',\n",
       " 'GK',\n",
       " 'GLA',\n",
       " 'GLOD5',\n",
       " 'GLRA2',\n",
       " 'GLUD2',\n",
       " 'GNL3L',\n",
       " 'GPC3',\n",
       " 'GPC4',\n",
       " 'GPKOW',\n",
       " 'GPM6B',\n",
       " 'GPR101',\n",
       " 'GPR119',\n",
       " 'GPR143',\n",
       " 'GPR173',\n",
       " 'GPR174',\n",
       " 'GPR34',\n",
       " 'GPR50',\n",
       " 'GPR82',\n",
       " 'GPRASP1',\n",
       " 'GPRASP2',\n",
       " 'GRIA3',\n",
       " 'GRIPAP1',\n",
       " 'GRPR',\n",
       " 'GSPT2',\n",
       " 'GTPBP6',\n",
       " 'GUCY2F',\n",
       " 'GYG2',\n",
       " 'H2AB1',\n",
       " 'H2AB2',\n",
       " 'H2AB3',\n",
       " 'H2AL3',\n",
       " 'H2AP',\n",
       " 'H2BW1',\n",
       " 'H2BW2',\n",
       " 'HAUS7',\n",
       " 'HCCS',\n",
       " 'HCFC1',\n",
       " 'HDAC6',\n",
       " 'HDAC8',\n",
       " 'HDX',\n",
       " 'HEPH',\n",
       " 'HMGB3',\n",
       " 'HMGN5',\n",
       " 'HNRNPH2',\n",
       " 'HPRT1',\n",
       " 'HS6ST2',\n",
       " 'HSD17B10',\n",
       " 'HSFX1',\n",
       " 'HSFX2',\n",
       " 'HSFX3',\n",
       " 'HSFX4',\n",
       " 'HTATSF1',\n",
       " 'HTR2C',\n",
       " 'HUWE1',\n",
       " 'IDH3G',\n",
       " 'IDS',\n",
       " 'IGBP1',\n",
       " 'IGSF1',\n",
       " 'IKBKG',\n",
       " 'IL13RA1',\n",
       " 'IL13RA2',\n",
       " 'IL1RAPL1',\n",
       " 'IL1RAPL2',\n",
       " 'IL2RG',\n",
       " 'IL3RA',\n",
       " 'IL9R',\n",
       " 'INE1',\n",
       " 'INTS6L',\n",
       " 'IQSEC2',\n",
       " 'IRAK1',\n",
       " 'IRS4',\n",
       " 'ITGB1BP2',\n",
       " 'ITIH6',\n",
       " 'ITM2A',\n",
       " 'JADE3',\n",
       " 'KCND1',\n",
       " 'KCNE5',\n",
       " 'KDM5C',\n",
       " 'KDM6A',\n",
       " 'KIAA1210',\n",
       " 'KIF4A',\n",
       " 'KLF8',\n",
       " 'KLHL13',\n",
       " 'KLHL15',\n",
       " 'KLHL34',\n",
       " 'KLHL4',\n",
       " 'KRBOX4',\n",
       " 'L1CAM',\n",
       " 'LAGE3',\n",
       " 'LAMP2',\n",
       " 'LANCL3',\n",
       " 'LAS1L',\n",
       " 'LCA10',\n",
       " 'LDOC1',\n",
       " 'LHFPL1',\n",
       " 'LINC00269',\n",
       " 'LINC01545',\n",
       " 'LINC01546',\n",
       " 'LINC01560',\n",
       " 'LONRF3',\n",
       " 'LPAR4',\n",
       " 'LRCH2',\n",
       " 'LUZP4',\n",
       " 'MAGEA1',\n",
       " 'MAGEA10',\n",
       " 'MAGEA11',\n",
       " 'MAGEA12',\n",
       " 'MAGEA13P',\n",
       " 'MAGEA2',\n",
       " 'MAGEA2B',\n",
       " 'MAGEA3',\n",
       " 'MAGEA4',\n",
       " 'MAGEA5P',\n",
       " 'MAGEA6',\n",
       " 'MAGEA8',\n",
       " 'MAGEA9',\n",
       " 'MAGEA9B',\n",
       " 'MAGEB1',\n",
       " 'MAGEB10',\n",
       " 'MAGEB16',\n",
       " 'MAGEB17',\n",
       " 'MAGEB18',\n",
       " 'MAGEB2',\n",
       " 'MAGEB3',\n",
       " 'MAGEB4',\n",
       " 'MAGEB5',\n",
       " 'MAGEB6',\n",
       " 'MAGEC1',\n",
       " 'MAGEC2',\n",
       " 'MAGEC3',\n",
       " 'MAGED1',\n",
       " 'MAGED2',\n",
       " 'MAGED4',\n",
       " 'MAGED4B',\n",
       " 'MAGEE1',\n",
       " 'MAGEE2',\n",
       " 'MAGEH1',\n",
       " 'MAGIX',\n",
       " 'MAGT1',\n",
       " 'MAMLD1',\n",
       " 'MAOA',\n",
       " 'MAOB',\n",
       " 'MAP3K15',\n",
       " 'MAP7D2',\n",
       " 'MAP7D3',\n",
       " 'MBNL3',\n",
       " 'MBTPS2',\n",
       " 'MCF2',\n",
       " 'MCTS1',\n",
       " 'MECP2',\n",
       " 'MED12',\n",
       " 'MED14',\n",
       " 'MED14OS',\n",
       " 'MID1',\n",
       " 'MID1IP1',\n",
       " 'MID2',\n",
       " 'MKRN4P',\n",
       " 'MMGT1',\n",
       " 'MORC4',\n",
       " 'MORF4L2',\n",
       " 'MOSPD1',\n",
       " 'MOSPD2',\n",
       " 'MPC1L',\n",
       " 'MPP1',\n",
       " 'MSL3',\n",
       " 'MSN',\n",
       " 'MTCP1',\n",
       " 'MTM1',\n",
       " 'MTMR1',\n",
       " 'MTMR8',\n",
       " 'MTRNR2L10',\n",
       " 'MXRA5',\n",
       " 'MYCLP1',\n",
       " 'NAA10',\n",
       " 'NALF2',\n",
       " 'NAP1L2',\n",
       " 'NAP1L3',\n",
       " 'NAP1L6P',\n",
       " 'NBDY',\n",
       " 'NCBP2L',\n",
       " 'NDP',\n",
       " 'NDUFA1',\n",
       " 'NDUFB11',\n",
       " 'NEXMIF',\n",
       " 'NHS',\n",
       " 'NHSL2',\n",
       " 'NKAP',\n",
       " 'NKAPP1',\n",
       " 'NKRF',\n",
       " 'NLGN3',\n",
       " 'NLGN4X',\n",
       " 'NLRP2B',\n",
       " 'NONO',\n",
       " 'NOX1',\n",
       " 'NR0B1',\n",
       " 'NRK',\n",
       " 'NSDHL',\n",
       " 'NUDT10',\n",
       " 'NUDT11',\n",
       " 'NUP62CL',\n",
       " 'NXF2',\n",
       " 'NXF2B',\n",
       " 'NXF3',\n",
       " 'NXF5',\n",
       " 'NXT2',\n",
       " 'NYX',\n",
       " 'OCRL',\n",
       " 'OFD1',\n",
       " 'OGT',\n",
       " 'OPHN1',\n",
       " 'OPN1LW',\n",
       " 'OPN1MW',\n",
       " 'OPN1MW2',\n",
       " 'OPN1MW3',\n",
       " 'OR13H1',\n",
       " 'OTC',\n",
       " 'OTUD5',\n",
       " 'OTUD6A',\n",
       " 'P2RY10',\n",
       " 'P2RY4',\n",
       " 'P2RY8',\n",
       " 'PABIR2',\n",
       " 'PABIR3',\n",
       " 'PABPC1L2A',\n",
       " 'PABPC1L2B',\n",
       " 'PABPC5',\n",
       " 'PAGE1',\n",
       " 'PAGE2',\n",
       " 'PAGE2B',\n",
       " 'PAGE3',\n",
       " 'PAGE4',\n",
       " 'PAGE5',\n",
       " 'PAK3',\n",
       " 'PASD1',\n",
       " 'PBDC1',\n",
       " 'PCDH11X',\n",
       " 'PCDH19',\n",
       " 'PCSK1N',\n",
       " 'PCYT1B',\n",
       " 'PDHA1',\n",
       " 'PDK3',\n",
       " 'PDZD11',\n",
       " 'PDZD4',\n",
       " 'PFKFB1',\n",
       " 'PGAM4',\n",
       " 'PGK1',\n",
       " 'PGRMC1',\n",
       " 'PHEX',\n",
       " 'PHF6',\n",
       " 'PHF8',\n",
       " 'PHKA1',\n",
       " 'PHKA2',\n",
       " 'PIGA',\n",
       " 'PIM2',\n",
       " 'PIN4',\n",
       " 'PIR',\n",
       " 'PJA1',\n",
       " 'PLAC1',\n",
       " 'PLCXD1',\n",
       " 'PLP1',\n",
       " 'PLP2',\n",
       " 'PLS3',\n",
       " 'PLXNA3',\n",
       " 'PLXNB3',\n",
       " 'PNCK',\n",
       " 'PNMA3',\n",
       " 'PNMA5',\n",
       " 'PNMA6A',\n",
       " 'PNMA6E',\n",
       " 'PNMA6F',\n",
       " 'PNPLA4',\n",
       " 'POF1B',\n",
       " 'POLA1',\n",
       " 'PORCN',\n",
       " 'POU3F4',\n",
       " 'PPEF1',\n",
       " 'PPP1R2C',\n",
       " 'PPP1R3F',\n",
       " 'PPP2R3B',\n",
       " 'PPP4R3C',\n",
       " 'PQBP1',\n",
       " 'PRAF2',\n",
       " 'PRDX4',\n",
       " 'PRICKLE3',\n",
       " 'PRKX',\n",
       " 'PRPS1',\n",
       " 'PRPS2',\n",
       " 'PRR32',\n",
       " 'PRRG1',\n",
       " 'PRRG3',\n",
       " 'PSMD10',\n",
       " 'PTCHD1',\n",
       " 'PUDP',\n",
       " 'PWWP3B',\n",
       " 'PYY3',\n",
       " 'RAB33A',\n",
       " 'RAB39B',\n",
       " 'RAB40A',\n",
       " 'RAB40AL',\n",
       " 'RAB41',\n",
       " 'RAB9A',\n",
       " 'RAB9B',\n",
       " 'RADX',\n",
       " 'RAI2',\n",
       " 'RAP2C',\n",
       " 'RBBP7',\n",
       " 'RBM10',\n",
       " 'RBM3',\n",
       " 'RBM41',\n",
       " 'RBMX',\n",
       " 'RBMX2',\n",
       " 'RBMXL3',\n",
       " 'RENBP',\n",
       " 'REPS2',\n",
       " 'RGN',\n",
       " 'RHOXF1',\n",
       " 'RHOXF2',\n",
       " 'RHOXF2B',\n",
       " 'RIBC1',\n",
       " 'RIPPLY1',\n",
       " 'RLIM',\n",
       " 'RNF113A',\n",
       " 'RNF128',\n",
       " 'RP2',\n",
       " 'RPA4',\n",
       " 'RPGR',\n",
       " 'RPL10',\n",
       " 'RPL36A',\n",
       " 'RPL39',\n",
       " 'RPL9P7',\n",
       " 'RPS26P11',\n",
       " 'RPS4X',\n",
       " 'RPS6KA3',\n",
       " 'RPS6KA6',\n",
       " 'RRAGB',\n",
       " 'RS1',\n",
       " 'RTL3',\n",
       " 'RTL4',\n",
       " 'RTL5',\n",
       " 'RTL8A',\n",
       " 'RTL8B',\n",
       " 'RTL8C',\n",
       " 'RTL8C',\n",
       " 'RTL9',\n",
       " 'S100G',\n",
       " 'SAGE1',\n",
       " 'SAGE2P',\n",
       " 'SASH3',\n",
       " 'SAT1',\n",
       " 'SATL1',\n",
       " 'SCML1',\n",
       " 'SCML2',\n",
       " 'SEPTIN6',\n",
       " 'SERPINA7',\n",
       " 'SERTM2',\n",
       " 'SH2D1A',\n",
       " 'SH3BGRL',\n",
       " 'SH3KBP1',\n",
       " 'SHOX',\n",
       " 'SHROOM2',\n",
       " 'SHROOM4',\n",
       " 'SLC10A3',\n",
       " 'SLC16A2',\n",
       " 'SLC25A14',\n",
       " 'SLC25A43',\n",
       " 'SLC25A5',\n",
       " 'SLC25A53',\n",
       " 'SLC25A6',\n",
       " 'SLC35A2',\n",
       " 'SLC38A5',\n",
       " 'SLC6A14',\n",
       " 'SLC6A8',\n",
       " 'SLC7A3',\n",
       " 'SLC9A6',\n",
       " 'SLC9A7',\n",
       " 'SLITRK2',\n",
       " 'SLITRK4',\n",
       " 'SMARCA1',\n",
       " 'SMC1A',\n",
       " 'SMIM10',\n",
       " 'SMIM10L2A',\n",
       " 'SMIM10L2B',\n",
       " 'SMIM9',\n",
       " 'SMPX',\n",
       " 'SMS',\n",
       " 'SNURFL',\n",
       " 'SNX12',\n",
       " 'SOWAHD',\n",
       " 'SOX3',\n",
       " 'SPACA5',\n",
       " 'SPACA5B',\n",
       " 'SPANXA1',\n",
       " 'SPANXA2',\n",
       " 'SPANXB1',\n",
       " 'SPANXC',\n",
       " 'SPANXD',\n",
       " 'SPANXN1',\n",
       " 'SPANXN2',\n",
       " 'SPANXN3',\n",
       " 'SPANXN4',\n",
       " 'SPANXN5',\n",
       " 'SPIN2A',\n",
       " 'SPIN2B',\n",
       " 'SPIN3',\n",
       " 'SPIN4',\n",
       " 'SPRY3',\n",
       " 'SRPK3',\n",
       " 'SRPX',\n",
       " 'SRPX2',\n",
       " 'SSR4',\n",
       " 'SSX1',\n",
       " 'SSX2',\n",
       " 'SSX2B',\n",
       " 'SSX3',\n",
       " 'SSX4',\n",
       " 'SSX4B',\n",
       " 'SSX5',\n",
       " 'SSX6P',\n",
       " 'SSX7',\n",
       " 'SSX8P',\n",
       " 'SSX9P',\n",
       " 'STAG2',\n",
       " 'STARD8',\n",
       " 'STEEP1',\n",
       " 'STK26',\n",
       " 'STS',\n",
       " 'SUPT20HL1',\n",
       " 'SUPT20HL2',\n",
       " 'SUV39H1',\n",
       " 'SYAP1',\n",
       " 'SYN1',\n",
       " 'SYP',\n",
       " 'SYTL4',\n",
       " 'SYTL5',\n",
       " 'TAB3',\n",
       " 'TAF1',\n",
       " 'TAF7L',\n",
       " 'TAF9B',\n",
       " 'TAFAZZIN',\n",
       " 'TASL',\n",
       " 'TBC1D25',\n",
       " 'TBC1D8B',\n",
       " 'TBL1X',\n",
       " 'TBX22',\n",
       " 'TCEAL1',\n",
       " 'TCEAL2',\n",
       " 'TCEAL3',\n",
       " 'TCEAL4',\n",
       " 'TCEAL5',\n",
       " 'TCEAL6',\n",
       " 'TCEAL7',\n",
       " 'TCEAL8',\n",
       " 'TCEAL9',\n",
       " 'TCEANC',\n",
       " 'TCP11X1',\n",
       " 'TCP11X2',\n",
       " 'TDGF1P3',\n",
       " 'TENM1',\n",
       " 'TENT5D',\n",
       " 'TEX11',\n",
       " 'TEX13A',\n",
       " 'TEX13B',\n",
       " 'TEX13C',\n",
       " 'TEX13D',\n",
       " 'TEX28',\n",
       " 'TEX28P1',\n",
       " 'TEX28P2',\n",
       " 'TFDP3',\n",
       " 'TFE3',\n",
       " 'TGIF2LX',\n",
       " 'THOC2',\n",
       " 'TIMM17B',\n",
       " 'TIMM8A',\n",
       " 'TIMP1',\n",
       " 'TKTL1',\n",
       " 'TLR7',\n",
       " 'TLR8',\n",
       " 'TMEM164',\n",
       " 'TMEM185A',\n",
       " 'TMEM187',\n",
       " 'TMEM255A',\n",
       " 'TMEM31',\n",
       " 'TMEM35A',\n",
       " 'TMEM47',\n",
       " 'TMLHE',\n",
       " 'TMSB15A',\n",
       " 'TMSB15B',\n",
       " 'TMSB4X',\n",
       " 'TNMD',\n",
       " 'TRAPPC2',\n",
       " 'TREX2',\n",
       " 'TRMT2B',\n",
       " 'TRO',\n",
       " 'TRPC5',\n",
       " 'TRPC5OS',\n",
       " 'TSC22D3',\n",
       " 'TSPAN6',\n",
       " 'TSPAN7',\n",
       " 'TSPYL2',\n",
       " 'TSR2',\n",
       " 'TXLNG',\n",
       " 'UBA1',\n",
       " 'UBE2A',\n",
       " 'UBE2DNL',\n",
       " 'UBE2NL',\n",
       " 'UBL4A',\n",
       " 'UBQLN2',\n",
       " 'UPF3B',\n",
       " 'UPRT',\n",
       " 'USP11',\n",
       " 'USP26',\n",
       " 'USP27X',\n",
       " 'USP51',\n",
       " 'USP9X',\n",
       " 'UTP14A',\n",
       " 'UXT',\n",
       " 'VAMP7',\n",
       " 'VBP1',\n",
       " 'VCX',\n",
       " 'VCX2',\n",
       " 'VCX3A',\n",
       " 'VCX3B',\n",
       " 'VEGFD',\n",
       " 'VENTXP1',\n",
       " 'VGLL1',\n",
       " 'VMA21',\n",
       " 'VSIG1',\n",
       " 'VSIG4',\n",
       " 'WAS',\n",
       " 'WASH6P',\n",
       " 'WDR13',\n",
       " 'WDR44',\n",
       " 'WDR45',\n",
       " 'WNK3',\n",
       " 'WWC3',\n",
       " 'XAGE1A',\n",
       " 'XAGE1B',\n",
       " 'XAGE2',\n",
       " 'XAGE3',\n",
       " 'XAGE5',\n",
       " 'XG',\n",
       " 'XIAP',\n",
       " 'XK',\n",
       " 'XKRX',\n",
       " 'XPNPEP2',\n",
       " 'YIPF6',\n",
       " 'YY2',\n",
       " 'ZBED1',\n",
       " 'ZBTB33',\n",
       " 'ZC3H12B',\n",
       " 'ZC4H2',\n",
       " 'ZCCHC12',\n",
       " 'ZCCHC13',\n",
       " 'ZCCHC18',\n",
       " 'ZDHHC15',\n",
       " 'ZDHHC9',\n",
       " 'ZFP92',\n",
       " 'ZFX',\n",
       " 'ZIC3',\n",
       " 'ZMAT1',\n",
       " 'ZMYM3',\n",
       " 'ZNF157',\n",
       " 'ZNF182',\n",
       " 'ZNF185',\n",
       " 'ZNF275',\n",
       " 'ZNF280C',\n",
       " 'ZNF41',\n",
       " 'ZNF449',\n",
       " 'ZNF630',\n",
       " 'ZNF674',\n",
       " 'ZNF711',\n",
       " 'ZNF75D',\n",
       " 'ZNF81',\n",
       " 'ZRSR2',\n",
       " 'ZXDA',\n",
       " 'ZXDB']"
      ]
     },
     "execution_count": 47,
     "metadata": {},
     "output_type": "execute_result"
    }
   ],
   "source": [
    "genelist.getGenList(\"../Data/humchrx.txt\")"
   ]
  },
  {
   "cell_type": "code",
   "execution_count": 21,
   "metadata": {},
   "outputs": [
    {
     "name": "stderr",
     "output_type": "stream",
     "text": [
      "UsageError: Cell magic `%%` not found.\n"
     ]
    }
   ],
   "source": [
    " %% bash python genelist.py ../Data/humchrx.txt ../Data/gene_names2.txt"
   ]
  },
  {
   "cell_type": "markdown",
   "metadata": {},
   "source": [
    "### OR"
   ]
  },
  {
   "cell_type": "code",
   "execution_count": 49,
   "metadata": {},
   "outputs": [],
   "source": [
    "!python genelist.py ../Data/humchrx.txt ../Data/interpreterscript\n"
   ]
  },
  {
   "cell_type": "code",
   "execution_count": 23,
   "metadata": {},
   "outputs": [
    {
     "name": "stderr",
     "output_type": "stream",
     "text": [
      "UsageError: Cell magic `%%` not found.\n"
     ]
    }
   ],
   "source": [
    "%% bash "
   ]
  },
  {
   "cell_type": "markdown",
   "metadata": {},
   "source": [
    "### Writing you own modules\n",
    "\n",
    "All we need to do to create our own modules is to save our script as a file with a `.py` extension. Suppose, for example, this script is saved as a file named `seqtools.py`.\n",
    "\n",
    "```python\n",
    "def remove_at(pos, seq):\n",
    "    return seq[:pos] + seq[pos+1:]```\n",
    "    \n",
    "We can import the module as:"
   ]
  },
  {
   "cell_type": "markdown",
   "metadata": {},
   "source": [
    "Examples of inbuilt in modules in python include: \n",
    "math: for mathematical functions\n",
    "sys: provides variables and functions to manipulate different parts of the python runtime environment\n",
    "random :returns a random list of numbers\n",
    "os: performs many tasks of the operating system\n",
    "statistics :performs mathematical functions like mean\n",
    "collections\n",
    "time\n",
    "csv \n"
   ]
  },
  {
   "cell_type": "code",
   "execution_count": 55,
   "metadata": {},
   "outputs": [],
   "source": [
    "import math"
   ]
  },
  {
   "cell_type": "code",
   "execution_count": 56,
   "metadata": {},
   "outputs": [
    {
     "data": {
      "text/plain": [
       "3.141592653589793"
      ]
     },
     "execution_count": 56,
     "metadata": {},
     "output_type": "execute_result"
    }
   ],
   "source": [
    "math . pi # Pie π which is defined as ratio of circumference to diameter of a circle and its value is 3.141592653589793, is available in math module.\n"
   ]
  },
  {
   "cell_type": "code",
   "execution_count": 57,
   "metadata": {},
   "outputs": [
    {
     "data": {
      "text/plain": [
       "0.3490658503988659"
      ]
     },
     "execution_count": 57,
     "metadata": {},
     "output_type": "execute_result"
    }
   ],
   "source": [
    "math . radians(20) # converting degrees to radians "
   ]
  },
  {
   "cell_type": "code",
   "execution_count": 58,
   "metadata": {},
   "outputs": [],
   "source": [
    "import sys"
   ]
  },
  {
   "cell_type": "code",
   "execution_count": 61,
   "metadata": {},
   "outputs": [
    {
     "data": {
      "text/plain": [
       "['/home/sandra/Desktop/MscMak2022-IntroductionToPython My own/Notebooks',\n",
       " '/usr/lib/python38.zip',\n",
       " '/usr/lib/python3.8',\n",
       " '/usr/lib/python3.8/lib-dynload',\n",
       " '',\n",
       " '/home/sandra/.local/lib/python3.8/site-packages',\n",
       " '/usr/local/lib/python3.8/dist-packages',\n",
       " '/usr/lib/python3/dist-packages']"
      ]
     },
     "execution_count": 61,
     "metadata": {},
     "output_type": "execute_result"
    }
   ],
   "source": [
    "sys.modules # This retuns a list of inbuilt modules\n",
    "\n",
    "sys.path # This is an environment variable that returns search path for all Python modules."
   ]
  },
  {
   "cell_type": "code",
   "execution_count": 67,
   "metadata": {},
   "outputs": [],
   "source": [
    "import seqtools"
   ]
  },
  {
   "cell_type": "code",
   "execution_count": 68,
   "metadata": {},
   "outputs": [
    {
     "data": {
      "text/plain": [
       "'A sting!'"
      ]
     },
     "execution_count": 68,
     "metadata": {},
     "output_type": "execute_result"
    }
   ],
   "source": [
    "s = \"A string!\"\n",
    "seqtools.remove_at(4,s)"
   ]
  },
  {
   "cell_type": "code",
   "execution_count": 69,
   "metadata": {},
   "outputs": [
    {
     "data": {
      "text/plain": [
       "'23000'"
      ]
     },
     "execution_count": 69,
     "metadata": {},
     "output_type": "execute_result"
    }
   ],
   "source": [
    "'23,000,'.replace(',','')"
   ]
  },
  {
   "cell_type": "markdown",
   "metadata": {},
   "source": [
    "Modules are useful when you want to analyse large data using the HPC or even create your library of handy functions. \n",
    "\n",
    "#### Running scripts\n",
    "\n",
    "When you have put your commands into a .py file, you can execute on the command line by invoking the Python interpreter using `python script.py.`"
   ]
  },
  {
   "cell_type": "markdown",
   "metadata": {},
   "source": [
    "\n",
    "### Script that takes command line arguments\n",
    "So far, we can create a script that does one thing. In this case, you have to edit the script if you have a new gene file to analyse or you want to use a different name for the output file.\n",
    "\n",
    "#### sys.argv\n",
    "sys.argv is a list in Python, which contains the command line arguments passed to the script. Lets add this to a script `sysargv.py` and run on the command line. \n",
    "\n",
    "```python\n",
    "import sys\n",
    "print(\"This is the name of the script: \", sys.argv[0])\n",
    "print(\"Number of arguments: \", len(sys.argv))\n",
    "print(\"The arguments are: \" , str(sys.argv))```"
   ]
  },
  {
   "cell_type": "code",
   "execution_count": 70,
   "metadata": {},
   "outputs": [
    {
     "name": "stdout",
     "output_type": "stream",
     "text": [
      "This is the name of the script:  sysargv.py\n",
      "Number of arguments:  2\n",
      "The arguments are:  ['sysargv.py', 'test']\n"
     ]
    }
   ],
   "source": [
    "!python sysargv.py test"
   ]
  },
  {
   "cell_type": "markdown",
   "metadata": {},
   "source": [
    "### Exercise 3\n",
    "\n",
    "- Using the same concept, convert your script in exercise 1 to take command line arguments (input and output files)\n",
    "- Using a DNA sequence read from file, answer the following questions:\n",
    "    1. Show that the DNA string contains only four letters.\n",
    "    2. In the DNA string there are regions that have a repeating letter. What is the letter and length of the longest repeating region?\n",
    "    3. How many ’ATG’s are in the DNA string?"
   ]
  },
  {
   "cell_type": "code",
   "execution_count": null,
   "metadata": {},
   "outputs": [],
   "source": []
  },
  {
   "cell_type": "markdown",
   "metadata": {},
   "source": [
    "### File handling, OS module, Shutil and Path modules\n",
    "\n",
    "Python can also interface directly with the Linux operating system using the **os**, **Shutil** and **path** modules.\n",
    "\n",
    "First, let's import the OS module"
   ]
  },
  {
   "cell_type": "code",
   "execution_count": 29,
   "metadata": {},
   "outputs": [],
   "source": [
    "import os"
   ]
  },
  {
   "cell_type": "code",
   "execution_count": 30,
   "metadata": {},
   "outputs": [
    {
     "data": {
      "text/plain": [
       "'/home/sandra/Desktop/MscMak2022-IntroductionToPython My own/Scripts'"
      ]
     },
     "execution_count": 30,
     "metadata": {},
     "output_type": "execute_result"
    }
   ],
   "source": [
    "os.getcwd() #Same as pwd in bash"
   ]
  },
  {
   "cell_type": "code",
   "execution_count": 31,
   "metadata": {},
   "outputs": [],
   "source": [
    "os.chdir('..') #Goes one directory back"
   ]
  },
  {
   "cell_type": "code",
   "execution_count": 32,
   "metadata": {},
   "outputs": [
    {
     "data": {
      "text/plain": [
       "'/home/sandra/Desktop/MscMak2022-IntroductionToPython My own'"
      ]
     },
     "execution_count": 32,
     "metadata": {},
     "output_type": "execute_result"
    }
   ],
   "source": [
    "os.getcwd()"
   ]
  },
  {
   "cell_type": "code",
   "execution_count": null,
   "metadata": {},
   "outputs": [],
   "source": [
    "os.chdir('INotebooks/')"
   ]
  },
  {
   "cell_type": "code",
   "execution_count": null,
   "metadata": {},
   "outputs": [],
   "source": [
    "?os"
   ]
  },
  {
   "cell_type": "code",
   "execution_count": 34,
   "metadata": {},
   "outputs": [
    {
     "data": {
      "text/plain": [
       "['Data',\n",
       " '.DS_Store',\n",
       " 'untitled.txt',\n",
       " 'README.md',\n",
       " 'Scripts',\n",
       " 'LICENSE',\n",
       " '.git',\n",
       " 'resources',\n",
       " 'Notebooks']"
      ]
     },
     "execution_count": 34,
     "metadata": {},
     "output_type": "execute_result"
    }
   ],
   "source": [
    "os.listdir()"
   ]
  },
  {
   "cell_type": "code",
   "execution_count": 35,
   "metadata": {},
   "outputs": [
    {
     "data": {
      "text/plain": [
       "False"
      ]
     },
     "execution_count": 35,
     "metadata": {},
     "output_type": "execute_result"
    }
   ],
   "source": [
    "os.path.isdir('../Scripts/bank.py')"
   ]
  },
  {
   "cell_type": "code",
   "execution_count": 36,
   "metadata": {},
   "outputs": [
    {
     "data": {
      "text/plain": [
       "False"
      ]
     },
     "execution_count": 36,
     "metadata": {},
     "output_type": "execute_result"
    }
   ],
   "source": [
    "os.path.isfile('../Scripts/bank.py')"
   ]
  },
  {
   "cell_type": "markdown",
   "metadata": {},
   "source": [
    "### path manipulation\n",
    "The path module inside the os module contains methods related with path manipulation.For example you can use `path.join()` to join paths. \n",
    "- `path.exists(path):` Checks if a given path exists.\n",
    "- `path.split(path):` Returns a tuple splitting the file or directory name at the end and the rest of the path\n",
    "- `path.splitext(path):` Splits out the extension of a file. It returns a tuple with the dotted extension and the original parameter up to the dot.\n",
    "- `path.join(directory1,directory2,...)`: Join two or more path name components, inserting the operating system path separator as needed"
   ]
  },
  {
   "cell_type": "code",
   "execution_count": null,
   "metadata": {},
   "outputs": [],
   "source": [
    "?os.path.join()"
   ]
  },
  {
   "cell_type": "markdown",
   "metadata": {},
   "source": [
    "Explore more at your own time.\n",
    "\n",
    "### Shutil\n",
    "Utility functions for copying and archiving files and directory trees."
   ]
  },
  {
   "cell_type": "code",
   "execution_count": null,
   "metadata": {},
   "outputs": [],
   "source": [
    "import shutil"
   ]
  },
  {
   "cell_type": "code",
   "execution_count": null,
   "metadata": {},
   "outputs": [],
   "source": [
    "?shutil"
   ]
  },
  {
   "cell_type": "markdown",
   "metadata": {},
   "source": [
    "## Exercise"
   ]
  },
  {
   "cell_type": "markdown",
   "metadata": {},
   "source": [
    "a. Write a function called make_album() that builds a dictionary describing a music album \n",
    "The function should take in an artist name and an album title, and it should return a dictionary containing these two pieces of information. \n",
    "Use the function to make three dictionaries representing different albums Print each return value to show that the dictionaries are storing the album information correctly.\n",
    "\n",
    "b. Add an optional parameter  to make_album() that allows you to store the number of tracks on an album If the calling line includes a value for the number of tracks, add that value to the album’s dictionary Make at least one new function call that includes the number of tracks on an album.\n"
   ]
  },
  {
   "cell_type": "code",
   "execution_count": null,
   "metadata": {},
   "outputs": [],
   "source": []
  },
  {
   "cell_type": "markdown",
   "metadata": {},
   "source": [
    "Write a python function that, using a DNA sequence read from file, answers the following questions:\n",
    "1. Shows that the DNA string contains only four letters.\n",
    "2. In the DNA string there are regions that have a repeating letter. What is the letter and length of the longest repeating region?\n",
    "3. How many ’ATG’s are in the DNA string?\n",
    "\n",
    "NB: Use the file `coding_seq.fa`. Bonus points if the script works for a multisequence fasta file."
   ]
  },
  {
   "cell_type": "code",
   "execution_count": null,
   "metadata": {},
   "outputs": [],
   "source": [
    "dna='AGGGTTTCTCTGTGTAGCCCTGGCTGTCCTGGAACTCACTCTGTAGACCAGGCTGGCCTTGAACTCAGAAATCTGCCGGCCTCTGCCTCCCAAGTGCTGGGATTAAAGGTGTGTGCCACCACAGCTCAGGGTTCTTTTTTATCATTAAAATAATTTATTACTTTTTAGTTCATGTACATTGGTGTTTCATCTGTGTGTGTCTGTATGAAGGCTTTGGATCCCCTGGAGTTACAGACAGTTATTAGCTGCCATGTGGGTGCTGGGAATTGAACCCAGATCCTCTGGAAGAGCAGCCAGTGCTCTTAACTGCTGAGCTATTTCTCTCGCCCTGGCAGCTACTTTTCTATAGATTATTCTAATTATTTTATACAGATGAACTACAGGCTGGGGATGGGGAGATGGCTCACCAGGTGAGAGCCTTTGCCATGCAATGCCCAGAACCCAGGCTGGAAGGGAAGACCTGACCTCTACAGTCAGGCTGCAGCACCCCTGCCCCATCATGCACATACACACATAAATAAAATAAAACCCAAATGGACTCATACAGTATTTGCCTTTGTGACTAGCTTATTTTATTGAGCAATTTCACCCATAGCATTTCAAATAGAACAGCTTCAAGTGTACAGCAAAATTAAATAGATGGTACAAGGGTTTCCTAAATGTCTCCTGCCCTTGATATATTGCTTACCCCTCTCTTAAATGTTTCACTTCCTAAATAATACCTATGTGAGGTAATGCATATTTAATTGGCTAGATTTTATCATTTATGATGTGTATATAATTTTCAAATAGCATGCTGTATATGATAAATAGTTTTATCTCTCTATTTGAAATACAAATTAAACTTTACAAAGACTTCACAGCGTCTCCTGTTTATTGCAGGGGATATGTTCACTGGACTTCAGCAGACACCTAAGACTGGATAGTAGTAACCTAAGCCACAGTCTAGTCGCTCACTGTGGCCATAACATTTTAGCTACTTCCCTCCACCTTCATGTAGCTCCTGTGCATGTTTTCGTTTATACCTTAATATTTCACTTTTAGGAGGCATTGATAGAAGTGAAACTACATCTGATTCCAAATGCTACTTGTTCATTGTTGATACATAAGAAAGCATTTATTTATTTATGTATCTACCACATCCTACTTGTTGTTCAATCCAGGAGTCTTTGGTTGATCACCTTTATATGTAGACAGTCATGCCATGCAAAAACAGTTGTGTTTTCCTTCTCAGAGGCCCCTCTCCTGCTTTATCTTCCTCTTTGCTCCGCCCTCTCTCTCTTGCCCTCCCTTACCACTGTTGCCTCCTTTCCTTTCCTTTTTTCCTTTTCCTTTTTCTTGTGGTTTTCCGAGACAGGGTTTCTCCGTATAACCCTGACTGTCCTGGAACTCTCTGCCTCCCGAGTGCTGGGATTAAAGGCGTGCACCACCACCGCCCGGGTGTCTCCTTTTCTTTTATTGTTCTTTTCTTTGTTCTTTTACTACATAAACTGAGTTCCAGTATAATGTTGACAATAGAAGACATCCTTTTCTTGCTCCTGATTTTAATGGGAAAGGTCGAATGGTATGTGGTTCATGTAGACCACATTTTGTTTCCCTCTCACCCATTGATGGACACTTGGGTAGCTTCCATTTTTGGCTGTTGTGAATAATGCTGCTATGAACATGGGTGTGCACAGAGCTCTCTGAGACGCTGCTTTCAGTCCTTCTGGCAGTAGATCTTCATGGAGGAGCACGGAGTGACCCAAACTGAACACATGGCTACCATAGAAGCCCATGCAGTGGCCCAGCAAGTCCAGCAGGTCCATGTAGCCACGTACACTGAGCACAGTATGCTAAGTGCTGATGAAGACTCCCCTTCCTCCCCCGAGGACACTTCTTATGATGACTCGGACATCCTCAACTCCACGGCAGCTGATGAGGTAACTGCCCATCTGGCTGCTGCAGGTCCTGTGGGAATGGCCGCTGCTGCTGCTGTGGCAACAGGGAAGAAACGGAAACGGCCTCATGTGTTTGAGTCTAATCCATCTATCCGAAAGAGACAGCAGACACGTTTGCTTCGGAAACTCAGAGCCACGTTGGATGAGTACACGACGCGAGTGGGACAGCAAGCGATTGTACTCTGCATCTCACCCTCCAAACCCAACCCTGTCTTCAAGGTGTTTGGCGCAGCACCTTTGGAGAATGTGGTGCGAAAGTACAAGAGCATGATCCTGGAAGACCTCGAGTCTGCTCTGGCAGAACACGCCCCTGCGCCACAGGAGGTTAATTCAGAGCTGCCGCCTCTCACCATCGATGGGATTCCAGTCTCTGTGGACAAAATGACCCAGGCTCAGCTTCGGGCATTTATCCCAGAGATGCTCAAGTATTCCACAGGTCGGGGGAAACCAGGCTGGGGGAAAGAAAGCTGCAAGCCTATCTGGTGGCCAGAAGATATCCCATGGGCCAATGTCCGCAGTGATGTCCGCACAGAAGAGCAAAAACAAAGGGTTTCATGGACCCAGGCATTACGGACCATAGTTAAAAATTGCTATAAGCAACATGGGCGGGAGGATCTTTTATATGCTTTTGAAGATCAGCAAACACAAACTCAGGCCACCACCACACACAGTATAGCTCATCTCGTACCATCACAGACCGTAGTACAGACCTTCAGCAACCCTGATGGCACCGTGTCGCTCATCCAGGTTGGTACAGGGGCAACAGTAGCCACATTGGCTGATGCTTCAGAACTGCCAACCACAGTCACTGTTGCCCAAGTGAATTACTCTGCTGTGGCTGATGGAGAGGTGGAACAAAACTGGGCCACGTTACAGGGCGGTGAAATGACCATCCAGACGACGCAAGCATCAGAGGCCACCCAGGCGGTAGCATCACTGGCAGAAGCCGCAGTGGCAGCTTCTCAGGAGATGCAGCAGGGAGCCACTGTCACCATGGCCCTCAACAGTGAAGCTGCCGCCCATGCTGTCGCCACTCTGGCGGAAGCCACCTTACAAGGTGGGGGACAGATAGTCCTGTCTGGGGAAACCGCAGCAGCCGTCGGAGCACTTACTGGAGTCCAAGATGCTAATGGCCTGGTCCAGATCCCTGTGAGCATGTACCAGACTGTGGTAACCAGCCTCGCCCAGGGCAACGGGCCGGTGCAGGTGGCCATGGCCCCAGTGACCACCAGGATATCGGACAGCGCAGTCACCATGGATGGCCAGGCTGTGGAGGTGGTGACCTTGGAACAGTAGCATGGAGCTCTATCATGGCAGCGTTTTCTAGTCTACTGCAGAATTTTTTACATGTTTGCAGAGGTGCAATCAAATGGAATTAAGTCTCTCGACTTGGAAAGAAAGTTTTGGTAACCTTTTTTTAAGAAGGAAGAAAGGCAGCAGATTTTGGAATCACACTTTTTTAAAGCACCACTCTGGGATCTGGTGGAATGAACGCCACCGATTTCACTGTCCCAAAAAGCCAAATTGTGGCCAGACTTCTTTGTGCAGAAATGTGTGTATACTTACGTGTGTGTACGTGTGAGTGTGAATATATGTATATGTGTACATATGGACATACACATTTACATATATGTATAAAGTATATATGTACATACATACATATGTATGAAACCTGCATGGAATTACCTGTATGAAATCAAGGTGAACTGTGGGAACAAGAACCCACCCAGATTCGTGGGTGGTAGGGTACATGACCAAACACAGTCACCTGGTTTTCGTTCATACCAGGGTCATGCATTGAGCTACTGACAGACTCAGGCGGAGGTGACCACGTCCTTCACCAAAGCTGCCTCCCAGTGGCCGCCTAGACCTCTGCTAGATTCACCGAAGGAAGGAAGATCCAGGACACAGCGTGGTCCAGAGAGTGCTTGTGAAGTCCAGGGACAGAGAGTGCGTGCGCACATGTGCGCTTTGCCAGCAGAGACACACGGCAGCTGGCCCAGGTGCTGACCTTGCCACAGGCAGGTAAACGCCCTGCAGGCTCCTGGCAGGGGCAAGAAATCGTTCCTCAGCCTCCATCTTCTCCCTTCCCAGGAACCCTCAGTCTCACGACTATTCAAGAGTTGCTTGGTTGTAAGGTCAGTCCTGTTACAAACTGAAGGTGACAGAAGTGTTAAGGGTCTGAGGAGTGTTCATGGAGCAGGCGGGTGTAAGTGCAGGGTGTGTGTGTGTGTGTGTGTGTGTGTGTATGAGTAATGGAGAAAATGGGAAGATTATAGGAGAGCAAAATAGGAAGGAGGGAGAAAACTCTTCATAAATCAGGGTGCGCCGTGGGAACCGTGTTCTCCAGCTGTCTGCAGCTGTATTTCAGCAGAGGAGACTGCCTCACACAGGACCTCTGCGCAAAGGCTGGCCGTCACAGATGTGTCAGAAGACTCTGTGAGGACTTTTCCCAGGCACATCCTGGCGGCACAGGCCTGGGACAGCTTTCCTGCTCACAGTGTGGCTTGCACTGAGCAGTCATTGTCACTGTGAGCTTCTGTGCTTTCCAGCCACAAGCCCTGAGTCTCCCGTGGCTCATTCATCTGATGTCTTGACAAGCCAAATCTCCACTCCTGGCGTGCAGGGACTCTTCCTCCTTCCTGCCAGCCCTCTCCCGTGCGTGATAGTGTATTTAATGTGGTGTTTTTGGTTTTTTGTTTTTTAATGAGACATTAAAAGATTCTTCATGTCTTGCTCAGCCTTTGAGAAAAGTTTCCAATTCTTATATTTGCTTGTTTTATATAAAACTATTCAATGTTCTTTGTATGTTCTTTTCTGTATGTGATAAGGGAGGGGTGGGAAATTTGCATATCAATGTCCTGGTTCTACAATTGGTTACTTTTTTTTTTTTTTTAAACTGTGAAGCTGTCCAGGGGCTTTAAGGCCCGTGTTCCTTTGTGGTGAAATAAGCCTCCCGATAGTTTGAGAAATTGCCAAGAAGATAAAAGCAAGATCCCAGCAGCAGAGCATGGAATCTGTGTTGTTCTCCATTCTGTCTAAACTGCCTCATTCAATAAATAGTTTAATGTGGCGAC'"
   ]
  },
  {
   "cell_type": "markdown",
   "metadata": {},
   "source": [
    "Write a function that takes two arguments – a protein sequence and an amino acid residue code – and returns the percentage of the protein that the amino acid makes up. Use the following assertions to test your function.\n",
    "\n",
    "```assert my_function(\"MSRSLLLRFLLFLLLLPPLP\", \"M\") == 5\n",
    "assert my_function(\"MSRSLLLRFLLFLLLLPPLP\", \"r\") == 10\n",
    "assert my_function(\"MSRSLLLRFLLFLLLLPPLP\", \"L\") == 50\n",
    "assert my_function(\"MSRSLLLRFLLFLLLLPPLP\", \"Y\") == 0```"
   ]
  },
  {
   "cell_type": "code",
   "execution_count": null,
   "metadata": {},
   "outputs": [],
   "source": []
  }
 ],
 "metadata": {
  "kernelspec": {
   "display_name": "Python 3.8.10 64-bit",
   "language": "python",
   "name": "python3"
  },
  "language_info": {
   "codemirror_mode": {
    "name": "ipython",
    "version": 3
   },
   "file_extension": ".py",
   "mimetype": "text/x-python",
   "name": "python",
   "nbconvert_exporter": "python",
   "pygments_lexer": "ipython3",
   "version": "3.8.10"
  },
  "vscode": {
   "interpreter": {
    "hash": "916dbcbb3f70747c44a77c7bcd40155683ae19c65e1c03b4aa3499c5328201f1"
   }
  }
 },
 "nbformat": 4,
 "nbformat_minor": 4
}
